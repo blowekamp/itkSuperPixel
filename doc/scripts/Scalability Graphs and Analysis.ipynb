{
 "cells": [
  {
   "cell_type": "code",
   "execution_count": null,
   "metadata": {},
   "outputs": [],
   "source": [
    "from __future__ import print_function\n",
    "import pandas as pd\n",
    "import numpy as np\n",
    "import matplotlib.pyplot as plt\n",
    "import matplotlib.ticker\n",
    "%matplotlib inline\n",
    "from IPython.display import display"
   ]
  },
  {
   "cell_type": "code",
   "execution_count": null,
   "metadata": {},
   "outputs": [],
   "source": [
    "df_2d = pd.read_csv(\"performance_vhm_lab_100.csv\")\n",
    "df_2d = df_2d.set_index(df_2d.columns[0])\n",
    "df_2d= df_2d.sort_index()\n",
    "display(df_2d)"
   ]
  },
  {
   "cell_type": "code",
   "execution_count": null,
   "metadata": {},
   "outputs": [],
   "source": [
    "def computeSpeedupEfficiency(df):\n",
    "    \"\"\"\n",
    "    Given a datafram with index of the number of threads, and the colums \n",
    "    multiple time measurements, computer the derived speed up and efficiency.\n",
    "    \"\"\"\n",
    "    \n",
    "    for colName in df.columns:\n",
    "        cloc = df.columns.get_loc(colName)\n",
    "        \n",
    "        # time with 1 thread\n",
    "        t1 = df.iloc[0][colName]\n",
    "    \n",
    "        #df[\"Optimal\"] = df_2d.iloc[0,1]/df_2d.index.values*(1.0)\n",
    "        df.insert(loc=cloc+1,\n",
    "                     column=\"Relative Speedup {0}\".format(colName),\n",
    "                     value=t1/df.iloc[:,cloc])\n",
    "        df.insert(loc=cloc+1,\n",
    "                     column=\"Relative Efficiency {0}\".format(colName),\n",
    "                     value=t1/(df.iloc[:,cloc]*df.index))"
   ]
  },
  {
   "cell_type": "code",
   "execution_count": null,
   "metadata": {},
   "outputs": [],
   "source": [
    "computeSpeedupEfficiency(df_2d)\n",
    "display(df_2d)"
   ]
  },
  {
   "cell_type": "code",
   "execution_count": null,
   "metadata": {},
   "outputs": [],
   "source": [
    "df_3d = pd.read_csv(\"performance_vhm_lab.csv\")\n",
    "df_3d = df_3d.set_index(df_3d.columns[0])\n",
    "df_3d= df_3d.sort_index()\n",
    "display(df_3d)"
   ]
  },
  {
   "cell_type": "code",
   "execution_count": null,
   "metadata": {},
   "outputs": [],
   "source": [
    "computeSpeedupEfficiency(df_3d)\n",
    "display(df_3d)\n"
   ]
  },
  {
   "cell_type": "code",
   "execution_count": null,
   "metadata": {},
   "outputs": [],
   "source": [
    "print(df_2d.to_latex(float_format='%.5f'))"
   ]
  },
  {
   "cell_type": "code",
   "execution_count": null,
   "metadata": {},
   "outputs": [],
   "source": [
    "n = 4\n",
    "a=0.8788\n",
    "# Efficiency\n",
    "n**(a-1)"
   ]
  },
  {
   "cell_type": "code",
   "execution_count": null,
   "metadata": {},
   "outputs": [],
   "source": [
    "# Speed up\n",
    "n**(a)"
   ]
  },
  {
   "cell_type": "code",
   "execution_count": null,
   "metadata": {},
   "outputs": [],
   "source": [
    "# serial part via Gustafson's law\n",
    "(n**(a)-n)/(1-n)"
   ]
  },
  {
   "cell_type": "code",
   "execution_count": null,
   "metadata": {},
   "outputs": [],
   "source": [
    "# percent parallel via Amdakl's law\n",
    "(1.0-n**(a))/(n**(a))*(n/(1.0-n))"
   ]
  },
  {
   "cell_type": "code",
   "execution_count": null,
   "metadata": {},
   "outputs": [],
   "source": [
    "print(df_2d.to_latex())\n",
    "print(df_3d.to_latex())"
   ]
  },
  {
   "cell_type": "code",
   "execution_count": null,
   "metadata": {},
   "outputs": [],
   "source": [
    "df_2d.loc[:44][[\"Without Connectivity\",\"With Connectivity\"]]"
   ]
  },
  {
   "cell_type": "code",
   "execution_count": null,
   "metadata": {},
   "outputs": [],
   "source": [
    "fig, axes = plt.subplots(nrows=2, ncols=2, dpi=320, figsize=(10, 10))\n",
    "#fig.suptitle(\"SLIC Performance Number of Theads vs Time\")\n",
    "\n",
    "plot_data = df_2d.loc[:44][[\"Without Connectivity\",\"With Connectivity\"]]\n",
    "ax = plot_data.plot(ax=axes[0,0], marker=\"\")\n",
    "#ax.set_xscale(\"log\", basex=2)\n",
    "ax.xaxis.set_major_formatter(matplotlib.ticker.FormatStrFormatter('%d'))\n",
    "#ax.set_yscale(\"log\", basey=2)\n",
    "ax.yaxis.set_major_formatter(matplotlib.ticker.ScalarFormatter())\n",
    "ax.set_ylabel(\"seconds\")\n",
    "ax.set_title(\"Time\")\n",
    "ax.legend().set_visible(False)\n",
    "ax.set_xlabel(\"\")\n",
    "\n",
    "\n",
    "plot_data = df_2d.loc[44::22][[\"Without Connectivity\",\"With Connectivity\"]]\n",
    "ax = plot_data.plot.bar(ax=axes[0,1])\n",
    "ax.legend().set_visible(False)\n",
    "ax.set_title(\"HyperThreading\")\n",
    "ax.set_xlabel(\"\")\n",
    "\n",
    "\n",
    "\n",
    "plot_data = df_3d.loc[:44][[\"Without Connectivity\",\"With Connectivity\"]]\n",
    "ax = plot_data.plot(ax=axes[1,0], marker=\"o\")\n",
    "#ax.set_xscale(\"log\", basex=2)\n",
    "ax.xaxis.set_major_formatter(matplotlib.ticker.FormatStrFormatter('%d'))\n",
    "#ax.set_yscale(\"log\", basey=2)\n",
    "ax.yaxis.set_major_formatter(matplotlib.ticker.ScalarFormatter())\n",
    "ax.set_ylabel(\"seconds\")\n",
    "#ax.set_title(\"log-log\")\n",
    "ax.legend(bbox_to_anchor=(.95, .95), loc='upper right', borderaxespad=0.)\n",
    "#ax.legend().set_visible(False)\n",
    "\n",
    "\n",
    "plot_data = df_3d.loc[44:][[\"Without Connectivity\",\"With Connectivity\"]]\n",
    "ax = plot_data.plot.bar(ax=axes[1,1])\n",
    "ax.legend().set_visible(False)\n",
    "\n",
    "fig.savefig(\"thread_time.eps\")\n"
   ]
  },
  {
   "cell_type": "code",
   "execution_count": null,
   "metadata": {},
   "outputs": [],
   "source": [
    "fig, axes = plt.subplots(nrows=1, ncols=2, dpi=320, figsize=(16, 8))\n",
    "\n",
    "plot_data = df_2d.loc[:44][[col for col in df_2d.columns if \"Speedup\" in col]]\n",
    "ax = plot_data.plot(ax=axes[0],)\n",
    "ax.plot(plot_data.index, plot_data.index,linestyle=':')\n",
    "ax.legend().set_visible(False)\n",
    "#ax.set_title(\"Speedup in 2D\")\n",
    "ax.set_ylabel(\"speedup\")\n",
    "\n",
    "\n",
    "plot_data = df_3d.loc[:44][[col for col in df_3d.columns if \"Speedup\" in col]]\n",
    "ax = plot_data.plot(ax=axes[1], marker=\"o\", label=[\"A\",\"B\"])\n",
    "#ax.set_title(\"Speedup in 3D\")\n",
    "ax.plot(plot_data.index,  plot_data.index, label=\"linear\",linestyle=':')\n",
    "ax.legend(bbox_to_anchor=(.05, .95), loc='upper left', borderaxespad=0., labels=(\"Without Connectivity\",\"With Connectivity\",\"linear\"))\n",
    "#\n",
    "\n",
    "\n",
    "fig.savefig(\"thread_speedup.eps\")"
   ]
  },
  {
   "cell_type": "code",
   "execution_count": null,
   "metadata": {},
   "outputs": [],
   "source": [
    "def fit_scalability(x,y):\n",
    "  x = np.log2(x)\n",
    "  y = np.sign(y)*np.log2(np.abs(y))\n",
    "  z = np.polyfit(x=x, y=y, deg=1)\n",
    "  return -z[0]"
   ]
  },
  {
   "cell_type": "code",
   "execution_count": null,
   "metadata": {},
   "outputs": [],
   "source": [
    "drop=-2\n",
    "scalability_3d_wo=fit_scalability(df_3d.index[:drop].values,\n",
    "                                  df_3d.iloc[:drop,0].values)\n",
    "scalability_3d_w=fit_scalability(df_3d.index[:drop].values,\n",
    "                                 df_3d.iloc[:drop,1].values)\n",
    "scalability_3d_c=fit_scalability(df_3d.index[:drop].values,\n",
    "                                 df_3d.iloc[:drop,1].values-df_3d.iloc[:drop,0].values)\n",
    "print(\"3d scalability {0} (without connectivity) {1} (with connectivity) {2} (connectivity alone)\"\n",
    "          .format(scalability_3d_wo,scalability_3d_w,scalability_3d_c))"
   ]
  },
  {
   "cell_type": "code",
   "execution_count": null,
   "metadata": {},
   "outputs": [],
   "source": [
    "drop=-2\n",
    "scalability_2d_wo=fit_scalability(df_2d.index[:drop].values,\n",
    "                                  df_2d.iloc[:drop,0].values)\n",
    "scalability_2d_w=fit_scalability(df_2d.index[:drop].values,\n",
    "                                 df_2d.iloc[:drop,1].values)\n",
    "scalability_2d_c=fit_scalability(df_2d.index[:drop].values,\n",
    "                                 df_2d.iloc[:drop,1].values-df_2d.iloc[:drop,0].values)\n",
    "print(\"2d scalability {0} (without connectivity) {1} (with connectivity) {2} (connectivity alone)\"\n",
    "          .format(scalability_2d_wo,scalability_2d_w,scalability_2d_c))"
   ]
  },
  {
   "cell_type": "code",
   "execution_count": null,
   "metadata": {},
   "outputs": [],
   "source": [
    "for i in range(88):\n",
    "    print(i, end=' ')"
   ]
  },
  {
   "cell_type": "code",
   "execution_count": null,
   "metadata": {},
   "outputs": [],
   "source": []
  }
 ],
 "metadata": {
  "kernelspec": {
   "display_name": "Python 2",
   "language": "python",
   "name": "python2"
  },
  "language_info": {
   "codemirror_mode": {
    "name": "ipython",
    "version": 2
   },
   "file_extension": ".py",
   "mimetype": "text/x-python",
   "name": "python",
   "nbconvert_exporter": "python",
   "pygments_lexer": "ipython2",
   "version": "2.7.5"
  }
 },
 "nbformat": 4,
 "nbformat_minor": 2
}
